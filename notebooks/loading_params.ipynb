{
 "cells": [
  {
   "cell_type": "markdown",
   "execution_count": null,
   "metadata": {},
   "outputs": [],
   "source": [
    "## Loading parameters from json file\n",
    "* Your json file must have all the keys required for param creation\n",
    "\n",
    "### For linear regression params you must have:\n",
    "1. *n_variables*\n",
    "2. *error_variance*\n",
    "3. *n_points*\n",
    "4. *related_vars*\n",
    "5. *n_scales*\n",
    "6. *requested_mean*\n",
    "\n",
    "* You don't have to write them in this order, because values will be got from keys dictionary\n",
    "### You can specify also optional parameters:\n",
    "* *seed*\n",
    "* *betas*\n",
    "\n",
    "You can specify also *param_type* in *load()* function. In the first version, we only have linear regression type, but in future version we could have other regression types\n",
    "* You will get an instance of correct params by specifying *param_type*\n",
    "* For example, if you specify *param_type*=\"lr\" the *load()* function will return an instance of LR_Params\n",
    "* Default is linear regression type"
   ]
  },
  {
   "cell_type": "markdown",
   "metadata": {},
   "source": [
    "## 1. Example of loaded params with fixed seed (and betas)"
   ]
  },
  {
   "cell_type": "code",
   "execution_count": 17,
   "metadata": {},
   "outputs": [
    {
     "name": "stdout",
     "output_type": "stream",
     "text": "seed: 22\nn_variables: 5\nerror_variance: 5\nn_points: 50\nrelated_vars: 3\nn_scales: 1\nrequested_mean: 0\nmeans: [0.6, -1.4, 1.3, -2.6, -0.5]\nbetas: 0   -4.94\n1   -2.00\n2   -0.10\n3    1.20\n4   -1.40\n5   -1.60\ndtype: float64\n\n"
    }
   ],
   "source": [
    "import sys\n",
    "import os\n",
    "sys.path.append(os.path.join(os.getcwd(), \"..\")) # adding dgpy package to python path, otherwise it will fail\n",
    "import dgpy\n",
    "from dgpy.model.lr_params import LR_Params\n",
    "from dgpy.persistence.json_loader import Json_Params_Loader\n",
    "\n",
    "\"\"\"\n",
    "In json file we have:\n",
    "seed = 11\n",
    "n_variables = 5\n",
    "error_variance = 5\n",
    "n_points = 50\n",
    "related_vars = 3\n",
    "n_scales = 1\n",
    "requested_mean = 0\n",
    "betas = [10.07, -1.6, 0.7, -1.7, 0.8, -1.8]\n",
    "\"\"\"\n",
    "filename = os.path.join(os.getcwd(), \"data_tests\", \"params_fixed.json\")\n",
    "loader = Json_Params_Loader(filename)\n",
    "params = loader.load(\"lr\")\n",
    "\n",
    "# print\n",
    "attrs = vars(params)\n",
    "print(\"\".join(\"%s: %s\\n\" % item for item in attrs.items()))"
   ]
  },
  {
   "cell_type": "markdown",
   "execution_count": null,
   "metadata": {},
   "outputs": [],
   "source": [
    "## 2. Example of loaded params with randomized seed and betas\n",
    "* Also means will be randomized"
   ]
  },
  {
   "cell_type": "code",
   "execution_count": 12,
   "metadata": {},
   "outputs": [
    {
     "name": "stdout",
     "output_type": "stream",
     "text": "seed: None\nn_variables: 5\nerror_variance: 5\nn_points: 50\nrelated_vars: 3\nn_scales: 1\nrequested_mean: 0\nmeans: [0.9, 0.3, -0.5, 1.6, 2.0]\nbetas: 0    0.17\n1   -0.70\n2   -0.40\n3    0.20\n4    1.30\n5   -0.70\ndtype: float64\n\n"
    }
   ],
   "source": [
    "\"\"\"\n",
    "In json file we have:\n",
    "n_variables = 5\n",
    "error_variance = 5\n",
    "n_points = 50\n",
    "related_vars = 3\n",
    "n_scales = 1\n",
    "requested_mean = 0\n",
    "\"\"\"\n",
    "\n",
    "filename = os.path.join(os.getcwd(), \"data_tests\", \"params.json\")\n",
    "loader = Json_Params_Loader(filename)\n",
    "params = loader.load(\"lr\")\n",
    "\n",
    "# seed will be not printed because you can't get the value of a randomized seed\n",
    "# \n",
    "\n",
    "# print\n",
    "attrs = vars(params)\n",
    "print(\"\".join(\"%s: %s\\n\" % item for item in attrs.items()))"
   ]
  },
  {
   "cell_type": "code",
   "execution_count": null,
   "metadata": {},
   "outputs": [],
   "source": []
  }
 ],
 "metadata": {
  "kernelspec": {
   "display_name": "Python 3",
   "language": "python",
   "name": "python3"
  },
  "language_info": {
   "codemirror_mode": {
    "name": "ipython",
    "version": 3
   },
   "file_extension": ".py",
   "mimetype": "text/x-python",
   "name": "python",
   "nbconvert_exporter": "python",
   "pygments_lexer": "ipython3",
   "version": "3.6.8-final"
  }
 },
 "nbformat": 4,
 "nbformat_minor": 4
}