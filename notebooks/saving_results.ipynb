{
 "cells": [
  {
   "cell_type": "markdown",
   "execution_count": null,
   "metadata": {},
   "outputs": [],
   "source": [
    "## Saving in-memory results from generated dataset\n",
    "\n",
    "### Steps\n",
    "1. Dataset generation\n",
    "2. Create an instance of an implementation of Result_Saver\n",
    "3. Save results invoking *save_all()* method\n",
    "* You can save also betas specifying \"params\" parameter in *save_all()* method\n",
    "\n",
    "In the next pieces of code we will show saving results with different modes\n"
   ]
  },
  {
   "cell_type": "markdown",
   "execution_count": null,
   "metadata": {},
   "outputs": [],
   "source": [
    "## 1. Saving results with default mode (no compression, no feature analysis, no multiprocessing)"
   ]
  },
  {
   "cell_type": "code",
   "execution_count": null,
   "metadata": {},
   "outputs": [],
   "source": [
    "import sys\n",
    "import os\n",
    "# Adding dgpy package to python path, otherwise it will fail. You don't have to do that if it's installed as a package\n",
    "sys.path.append(os.path.join(os.getcwd(), \"../\"))\n",
    "\n",
    "import dgpy\n",
    "from dgpy.model.lr_params import LR_Params\n",
    "from dgpy.persistence.json_loader import Json_Params_Loader\n",
    "from dgpy.persistence.csv_saver import Csv_Results_Saver \n",
    "from dgpy.generator.lr_generator import LR_Generator, LR_Chunk_Generator\n",
    "\n",
    "filename = os.path.join(os.getcwd(), \"data_tests/params.json\")\n",
    "\n",
    "j_loader = Json_Params_Loader(filename)\n",
    "params = j_loader.load('lr') # if you don't specify param_type will load with param_type='lr' default option  \n",
    "\n",
    "# print\n",
    "print(\"filename: {}\".format(filename))\n",
    "attrs = vars(params)\n",
    "print(\"\".join(\"%s: %s\\n\" % item for item in attrs.items()))\n",
    "\n",
    "generator = LR_Generator()\n",
    "results = generator.generate_dataset(params, verbose=True)\n",
    "\n",
    "dirpath = os.path.join(os.getcwd(), \"data_tests\")\n",
    "saver = Csv_Results_Saver(dirpath)\n",
    "saver.save_all(params, results, verbose=True)\n",
    "\n",
    "# go to dir path to see results"
   ]
  },
  {
   "cell_type": "markdown",
   "execution_count": null,
   "metadata": {},
   "outputs": [],
   "source": [
    "## 2. Save results (with compression)\n",
    "You can choose from 3 compression types, specifying parameter *compression*=True and for parameter *compr_type*:\n",
    "* Bzip compression ---> *compr_type*=\"bz\"\n",
    "* Gunzip compression ---> *compr_type*=\"gz\"\n",
    "* Xz compression ---> *compr_type*=\"xz\"\n",
    "\n",
    "In this example we will show saving results with gunzip compression"
   ]
  },
  {
   "cell_type": "code",
   "execution_count": null,
   "metadata": {},
   "outputs": [],
   "source": [
    "import sys\n",
    "import os\n",
    "# Adding dgpy package to python path, otherwise it will fail. You don't have to do that if it's installed as a package\n",
    "sys.path.append(os.path.join(os.getcwd(), \"../\"))\n",
    "\n",
    "import dgpy\n",
    "from dgpy.model.lr_params import LR_Params\n",
    "from dgpy.persistence.json_loader import Json_Params_Loader\n",
    "from dgpy.persistence.csv_saver import Csv_Results_Saver \n",
    "from dgpy.generator.lr_generator import LR_Generator, LR_Chunk_Generator\n",
    "\n",
    "filename = os.path.join(os.getcwd(), \"data_tests/params.json\")\n",
    "\n",
    "j_loader = Json_Params_Loader(filename)\n",
    "params = j_loader.load('lr') # if you don't specify param_type will load with param_type='lr' default option  \n",
    "\n",
    "# print\n",
    "print(\"filename: {}\".format(filename))\n",
    "attrs = vars(params)\n",
    "print(\"\".join(\"%s: %s\\n\" % item for item in attrs.items()))\n",
    "\n",
    "generator = LR_Generator()\n",
    "results = generator.generate_dataset(params, verbose=True)\n",
    "\n",
    "dirpath = os.path.join(os.getcwd(), \"data_tests\")\n",
    "saver = Csv_Results_Saver(dirpath)\n",
    "saver.save_all(params, results, verbose=True, compression=True, compr_type=\"gz\")\n",
    "\n",
    "# go to dir path to see results"
   ]
  },
  {
   "cell_type": "markdown",
   "execution_count": null,
   "metadata": {},
   "outputs": [],
   "source": [
    "## 2. Save results (with feature analysis, no multiprocessing)\n",
    "* Sanity check is a common step, so instead of create an instance of LR_Sanity_Check and execute analysis you only have to specify parameter *feature_analysis*=True\n",
    "* It will automatically create a directory named \"Sanity_Checks\" in you *dirpath* where will be stored analysis files as .png images\n",
    "* With *verbose*=True, it will show also output of analysis steps and analysis time"
   ]
  },
  {
   "cell_type": "code",
   "execution_count": null,
   "metadata": {},
   "outputs": [],
   "source": [
    "import sys\n",
    "import os\n",
    "# Adding dgpy package to python path, otherwise it will fail. You don't have to do that if it's installed as a package\n",
    "sys.path.append(os.path.join(os.getcwd(), \"../\"))\n",
    "\n",
    "import dgpy\n",
    "from dgpy.model.lr_params import LR_Params\n",
    "from dgpy.persistence.json_loader import Json_Params_Loader\n",
    "from dgpy.persistence.csv_saver import Csv_Results_Saver \n",
    "from dgpy.generator.lr_generator import LR_Generator, LR_Chunk_Generator\n",
    "\n",
    "filename = os.path.join(os.getcwd(), \"data_tests/params.json\")\n",
    "\n",
    "j_loader = Json_Params_Loader(filename)\n",
    "params = j_loader.load('lr') # if you don't specify param_type will load with param_type='lr' default option  \n",
    "\n",
    "# print\n",
    "print(\"filename: {}\".format(filename))\n",
    "attrs = vars(params)\n",
    "print(\"\".join(\"%s: %s\\n\" % item for item in attrs.items()))\n",
    "\n",
    "generator = LR_Generator()\n",
    "results = generator.generate_dataset(params, verbose=True)\n",
    "\n",
    "dirpath = os.path.join(os.getcwd(), \"data_tests\")\n",
    "saver = Csv_Results_Saver(dirpath)\n",
    "saver.save_all(params, results, verbose=True, feature_analysis=True)\n",
    "\n",
    "# go to dir path to see results"
   ]
  },
  {
   "cell_type": "markdown",
   "execution_count": null,
   "metadata": {},
   "outputs": [],
   "source": [
    "## 2. Save results (with feature analysis, multiprocessing)\n",
    "* In multiprocessing mode, analysis will be executed in parallel\n",
    "* You must specify parameter *multi_proc*=True"
   ]
  },
  {
   "cell_type": "code",
   "execution_count": null,
   "metadata": {},
   "outputs": [],
   "source": [
    "import sys\n",
    "import os\n",
    "# Adding dgpy package to python path, otherwise it will fail. You don't have to do that if it's installed as a package\n",
    "sys.path.append(os.path.join(os.getcwd(), \"../\"))\n",
    "\n",
    "import dgpy\n",
    "from dgpy.model.lr_params import LR_Params\n",
    "from dgpy.persistence.json_loader import Json_Params_Loader\n",
    "from dgpy.persistence.csv_saver import Csv_Results_Saver \n",
    "from dgpy.generator.lr_generator import LR_Generator, LR_Chunk_Generator\n",
    "\n",
    "filename = os.path.join(os.getcwd(), \"data_tests/params.json\")\n",
    "\n",
    "j_loader = Json_Params_Loader(filename)\n",
    "params = j_loader.load('lr') # if you don't specify param_type will load with param_type='lr' default option  \n",
    "\n",
    "# print\n",
    "print(\"filename: {}\".format(filename))\n",
    "attrs = vars(params)\n",
    "print(\"\".join(\"%s: %s\\n\" % item for item in attrs.items()))\n",
    "\n",
    "generator = LR_Generator()\n",
    "results = generator.generate_dataset(params, verbose=True)\n",
    "\n",
    "dirpath = os.path.join(os.getcwd(), \"data_tests\")\n",
    "saver = Csv_Results_Saver(dirpath)\n",
    "saver.save_all(params, results, verbose=True, feature_analysis=True, multi_proc=True)\n",
    "\n",
    "# go to dir path to see results"
   ]
  }
 ],
 "metadata": {
  "kernelspec": {
   "display_name": "Python 3",
   "language": "python",
   "name": "python3"
  },
  "language_info": {
   "codemirror_mode": {
    "name": "ipython",
    "version": 3
   },
   "file_extension": ".py",
   "mimetype": "text/x-python",
   "name": "python",
   "nbconvert_exporter": "python",
   "pygments_lexer": "ipython3",
   "version": "3.6.8-final"
  }
 },
 "nbformat": 4,
 "nbformat_minor": 4
}